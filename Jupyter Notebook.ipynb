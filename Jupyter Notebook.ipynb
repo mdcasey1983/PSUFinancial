{
 "cells": [
  {
   "cell_type": "code",
   "execution_count": null,
   "id": "98ed2ef0",
   "metadata": {
    "scrolled": false
   },
   "outputs": [],
   "source": [
    "#!pip install pymongo\n",
    "#!pip install jupyter_contrib_nbextensions"
   ]
  },
  {
   "cell_type": "markdown",
   "id": "8f8afcb8",
   "metadata": {},
   "source": [
    "## Setting up PyMongo"
   ]
  },
  {
   "cell_type": "code",
   "execution_count": 5,
   "id": "e2d2f069",
   "metadata": {},
   "outputs": [],
   "source": [
    "import pymongo\n",
    "client = pymongo.MongoClient(\"mongodb://172.17.0.2:27017/\")\n",
    "\n"
   ]
  },
  {
   "cell_type": "code",
   "execution_count": 2,
   "id": "ab440efc",
   "metadata": {},
   "outputs": [],
   "source": [
    "#create test database to test Mongo connection\n",
    "db = client[\"mydatabase\"]\n",
    "collection = db[\"mycollection\"]"
   ]
  },
  {
   "cell_type": "code",
   "execution_count": 3,
   "id": "8a186b72",
   "metadata": {},
   "outputs": [
    {
     "name": "stdout",
     "output_type": "stream",
     "text": [
      "6740afd93e9978aba645b775\n"
     ]
    }
   ],
   "source": [
    "#testing the ability to insert and connect to mongo db. Prior steps will not tell us if the \n",
    "#connection actually works\n",
    "data = {'name': 'John', 'age': 30}\n",
    "result = collection.insert_one(data)\n",
    "\n",
    "print(result.inserted_id)\n"
   ]
  },
  {
   "cell_type": "code",
   "execution_count": 15,
   "id": "08dd6461",
   "metadata": {},
   "outputs": [
    {
     "data": {
      "text/plain": [
       "Database(MongoClient(host=['172.17.0.2:27017'], document_class=dict, tz_aware=False, connect=True), 'mydatabase')"
      ]
     },
     "execution_count": 15,
     "metadata": {},
     "output_type": "execute_result"
    }
   ],
   "source": [
    "db"
   ]
  },
  {
   "cell_type": "code",
   "execution_count": 17,
   "id": "d3672e93",
   "metadata": {
    "scrolled": true
   },
   "outputs": [
    {
     "name": "stdout",
     "output_type": "stream",
     "text": [
      "customers\n",
      "mycollection\n"
     ]
    }
   ],
   "source": [
    "for coll in mydb.list_collection_names():\n",
    "    print(coll)"
   ]
  },
  {
   "cell_type": "code",
   "execution_count": 22,
   "id": "aae06737",
   "metadata": {},
   "outputs": [
    {
     "data": {
      "text/plain": [
       "{'ok': 1.0}"
      ]
     },
     "execution_count": 22,
     "metadata": {},
     "output_type": "execute_result"
    }
   ],
   "source": [
    "client.mydatabase.command(\"dropDatabase\")"
   ]
  },
  {
   "cell_type": "code",
   "execution_count": 18,
   "id": "9d291e01",
   "metadata": {},
   "outputs": [
    {
     "data": {
      "text/plain": [
       "['admin', 'config', 'local', 'mydatabase', 'reddit']"
      ]
     },
     "execution_count": 18,
     "metadata": {},
     "output_type": "execute_result"
    }
   ],
   "source": [
    "#showdatabase names on pymongo connection\n",
    "client.list_database_names()"
   ]
  },
  {
   "cell_type": "markdown",
   "id": "6bb66a30",
   "metadata": {},
   "source": [
    "## Import data from Kaggle"
   ]
  },
  {
   "cell_type": "code",
   "execution_count": null,
   "id": "5b643f8f",
   "metadata": {},
   "outputs": [],
   "source": [
    "!pip install opendatasets\n",
    "!pip install pandas"
   ]
  },
  {
   "cell_type": "code",
   "execution_count": 3,
   "id": "7767adaa",
   "metadata": {},
   "outputs": [],
   "source": [
    "import opendatasets as od\n",
    "import pandas as pd"
   ]
  },
  {
   "cell_type": "code",
   "execution_count": 4,
   "id": "2b772408",
   "metadata": {
    "scrolled": true
   },
   "outputs": [
    {
     "name": "stdout",
     "output_type": "stream",
     "text": [
      "Please provide your Kaggle credentials to download this dataset. Learn more: http://bit.ly/kaggle-creds\n",
      "Your Kaggle username: mdcasey\n",
      "Your Kaggle Key: ········\n",
      "Dataset URL: https://www.kaggle.com/datasets/gpreda/reddit-wallstreetsbets-posts\n",
      "Downloading reddit-wallstreetsbets-posts.zip to ./reddit-wallstreetsbets-posts\n"
     ]
    },
    {
     "name": "stderr",
     "output_type": "stream",
     "text": [
      "100%|████████████████████████████████████████████████████████████████████████████████████████████████████████████████████| 16.5M/16.5M [00:00<00:00, 71.6MB/s]\n"
     ]
    },
    {
     "name": "stdout",
     "output_type": "stream",
     "text": [
      "\n"
     ]
    }
   ],
   "source": [
    "\n",
    "\n",
    "\n",
    "\n",
    "import opendatasets as od \n",
    "import pandas \n",
    "  \n",
    "od.download( \n",
    "    \"https://www.kaggle.com/datasets/gpreda/reddit-wallstreetsbets-posts\")"
   ]
  },
  {
   "cell_type": "markdown",
   "id": "24743c9a",
   "metadata": {},
   "source": [
    "## Process Data Using Pandas"
   ]
  },
  {
   "cell_type": "code",
   "execution_count": 1,
   "id": "603fb6e8",
   "metadata": {},
   "outputs": [],
   "source": [
    "import pandas as pd\n",
    "dataset = pd.read_csv(\"reddit-wallstreetsbets-posts/reddit_wsb.csv\")"
   ]
  },
  {
   "cell_type": "code",
   "execution_count": 6,
   "id": "0e7dfbaf",
   "metadata": {},
   "outputs": [
    {
     "data": {
      "text/html": [
       "<div>\n",
       "<style scoped>\n",
       "    .dataframe tbody tr th:only-of-type {\n",
       "        vertical-align: middle;\n",
       "    }\n",
       "\n",
       "    .dataframe tbody tr th {\n",
       "        vertical-align: top;\n",
       "    }\n",
       "\n",
       "    .dataframe thead th {\n",
       "        text-align: right;\n",
       "    }\n",
       "</style>\n",
       "<table border=\"1\" class=\"dataframe\">\n",
       "  <thead>\n",
       "    <tr style=\"text-align: right;\">\n",
       "      <th></th>\n",
       "      <th>title</th>\n",
       "      <th>score</th>\n",
       "      <th>id</th>\n",
       "      <th>url</th>\n",
       "      <th>comms_num</th>\n",
       "      <th>created</th>\n",
       "      <th>body</th>\n",
       "      <th>timestamp</th>\n",
       "    </tr>\n",
       "  </thead>\n",
       "  <tbody>\n",
       "    <tr>\n",
       "      <th>0</th>\n",
       "      <td>It's not about the money, it's about sending a...</td>\n",
       "      <td>55</td>\n",
       "      <td>l6ulcx</td>\n",
       "      <td>https://v.redd.it/6j75regs72e61</td>\n",
       "      <td>6</td>\n",
       "      <td>1.611863e+09</td>\n",
       "      <td>NaN</td>\n",
       "      <td>2021-01-28 21:37:41</td>\n",
       "    </tr>\n",
       "    <tr>\n",
       "      <th>1</th>\n",
       "      <td>Math Professor Scott Steiner says the numbers ...</td>\n",
       "      <td>110</td>\n",
       "      <td>l6uibd</td>\n",
       "      <td>https://v.redd.it/ah50lyny62e61</td>\n",
       "      <td>23</td>\n",
       "      <td>1.611862e+09</td>\n",
       "      <td>NaN</td>\n",
       "      <td>2021-01-28 21:32:10</td>\n",
       "    </tr>\n",
       "    <tr>\n",
       "      <th>2</th>\n",
       "      <td>Exit the system</td>\n",
       "      <td>0</td>\n",
       "      <td>l6uhhn</td>\n",
       "      <td>https://www.reddit.com/r/wallstreetbets/commen...</td>\n",
       "      <td>47</td>\n",
       "      <td>1.611862e+09</td>\n",
       "      <td>The CEO of NASDAQ pushed to halt trading “to g...</td>\n",
       "      <td>2021-01-28 21:30:35</td>\n",
       "    </tr>\n",
       "    <tr>\n",
       "      <th>3</th>\n",
       "      <td>NEW SEC FILING FOR GME! CAN SOMEONE LESS RETAR...</td>\n",
       "      <td>29</td>\n",
       "      <td>l6ugk6</td>\n",
       "      <td>https://sec.report/Document/0001193125-21-019848/</td>\n",
       "      <td>74</td>\n",
       "      <td>1.611862e+09</td>\n",
       "      <td>NaN</td>\n",
       "      <td>2021-01-28 21:28:57</td>\n",
       "    </tr>\n",
       "    <tr>\n",
       "      <th>4</th>\n",
       "      <td>Not to distract from GME, just thought our AMC...</td>\n",
       "      <td>71</td>\n",
       "      <td>l6ufgy</td>\n",
       "      <td>https://i.redd.it/4h2sukb662e61.jpg</td>\n",
       "      <td>156</td>\n",
       "      <td>1.611862e+09</td>\n",
       "      <td>NaN</td>\n",
       "      <td>2021-01-28 21:26:56</td>\n",
       "    </tr>\n",
       "    <tr>\n",
       "      <th>5</th>\n",
       "      <td>WE BREAKING THROUGH</td>\n",
       "      <td>405</td>\n",
       "      <td>l6uf7d</td>\n",
       "      <td>https://i.redd.it/2wef8tc062e61.png</td>\n",
       "      <td>84</td>\n",
       "      <td>1.611862e+09</td>\n",
       "      <td>NaN</td>\n",
       "      <td>2021-01-28 21:26:30</td>\n",
       "    </tr>\n",
       "    <tr>\n",
       "      <th>6</th>\n",
       "      <td>SHORT STOCK DOESN'T HAVE AN EXPIRATION DATE</td>\n",
       "      <td>317</td>\n",
       "      <td>l6uf6d</td>\n",
       "      <td>https://www.reddit.com/r/wallstreetbets/commen...</td>\n",
       "      <td>53</td>\n",
       "      <td>1.611862e+09</td>\n",
       "      <td>Hedgefund whales are spreading disinfo saying ...</td>\n",
       "      <td>2021-01-28 21:26:27</td>\n",
       "    </tr>\n",
       "    <tr>\n",
       "      <th>7</th>\n",
       "      <td>THIS IS THE MOMENT</td>\n",
       "      <td>405</td>\n",
       "      <td>l6ub9l</td>\n",
       "      <td>https://www.reddit.com/r/wallstreetbets/commen...</td>\n",
       "      <td>178</td>\n",
       "      <td>1.611862e+09</td>\n",
       "      <td>Life isn't fair. My mother always told me that...</td>\n",
       "      <td>2021-01-28 21:19:31</td>\n",
       "    </tr>\n",
       "    <tr>\n",
       "      <th>8</th>\n",
       "      <td>Currently Holding AMC and NOK - Is it retarded...</td>\n",
       "      <td>200</td>\n",
       "      <td>l6ub4i</td>\n",
       "      <td>https://i.redd.it/6k2z7ouo42e61.png</td>\n",
       "      <td>161</td>\n",
       "      <td>1.611862e+09</td>\n",
       "      <td>NaN</td>\n",
       "      <td>2021-01-28 21:19:16</td>\n",
       "    </tr>\n",
       "    <tr>\n",
       "      <th>9</th>\n",
       "      <td>I have nothing to say but BRUH I am speechless...</td>\n",
       "      <td>291</td>\n",
       "      <td>l6uas9</td>\n",
       "      <td>https://i.redd.it/bfzzw2yo42e61.jpg</td>\n",
       "      <td>27</td>\n",
       "      <td>1.611862e+09</td>\n",
       "      <td>NaN</td>\n",
       "      <td>2021-01-28 21:18:37</td>\n",
       "    </tr>\n",
       "  </tbody>\n",
       "</table>\n",
       "</div>"
      ],
      "text/plain": [
       "                                               title  score      id  \\\n",
       "0  It's not about the money, it's about sending a...     55  l6ulcx   \n",
       "1  Math Professor Scott Steiner says the numbers ...    110  l6uibd   \n",
       "2                                    Exit the system      0  l6uhhn   \n",
       "3  NEW SEC FILING FOR GME! CAN SOMEONE LESS RETAR...     29  l6ugk6   \n",
       "4  Not to distract from GME, just thought our AMC...     71  l6ufgy   \n",
       "5                                WE BREAKING THROUGH    405  l6uf7d   \n",
       "6        SHORT STOCK DOESN'T HAVE AN EXPIRATION DATE    317  l6uf6d   \n",
       "7                                 THIS IS THE MOMENT    405  l6ub9l   \n",
       "8  Currently Holding AMC and NOK - Is it retarded...    200  l6ub4i   \n",
       "9  I have nothing to say but BRUH I am speechless...    291  l6uas9   \n",
       "\n",
       "                                                 url  comms_num       created  \\\n",
       "0                    https://v.redd.it/6j75regs72e61          6  1.611863e+09   \n",
       "1                    https://v.redd.it/ah50lyny62e61         23  1.611862e+09   \n",
       "2  https://www.reddit.com/r/wallstreetbets/commen...         47  1.611862e+09   \n",
       "3  https://sec.report/Document/0001193125-21-019848/         74  1.611862e+09   \n",
       "4                https://i.redd.it/4h2sukb662e61.jpg        156  1.611862e+09   \n",
       "5                https://i.redd.it/2wef8tc062e61.png         84  1.611862e+09   \n",
       "6  https://www.reddit.com/r/wallstreetbets/commen...         53  1.611862e+09   \n",
       "7  https://www.reddit.com/r/wallstreetbets/commen...        178  1.611862e+09   \n",
       "8                https://i.redd.it/6k2z7ouo42e61.png        161  1.611862e+09   \n",
       "9                https://i.redd.it/bfzzw2yo42e61.jpg         27  1.611862e+09   \n",
       "\n",
       "                                                body            timestamp  \n",
       "0                                                NaN  2021-01-28 21:37:41  \n",
       "1                                                NaN  2021-01-28 21:32:10  \n",
       "2  The CEO of NASDAQ pushed to halt trading “to g...  2021-01-28 21:30:35  \n",
       "3                                                NaN  2021-01-28 21:28:57  \n",
       "4                                                NaN  2021-01-28 21:26:56  \n",
       "5                                                NaN  2021-01-28 21:26:30  \n",
       "6  Hedgefund whales are spreading disinfo saying ...  2021-01-28 21:26:27  \n",
       "7  Life isn't fair. My mother always told me that...  2021-01-28 21:19:31  \n",
       "8                                                NaN  2021-01-28 21:19:16  \n",
       "9                                                NaN  2021-01-28 21:18:37  "
      ]
     },
     "execution_count": 6,
     "metadata": {},
     "output_type": "execute_result"
    }
   ],
   "source": [
    "dataset.head(10)"
   ]
  },
  {
   "cell_type": "markdown",
   "id": "d56ae736",
   "metadata": {},
   "source": [
    "### Look at data to find amount of missing data in posts"
   ]
  },
  {
   "cell_type": "code",
   "execution_count": 18,
   "id": "3b75afec",
   "metadata": {},
   "outputs": [
    {
     "data": {
      "text/html": [
       "<div>\n",
       "<style scoped>\n",
       "    .dataframe tbody tr th:only-of-type {\n",
       "        vertical-align: middle;\n",
       "    }\n",
       "\n",
       "    .dataframe tbody tr th {\n",
       "        vertical-align: top;\n",
       "    }\n",
       "\n",
       "    .dataframe thead th {\n",
       "        text-align: right;\n",
       "    }\n",
       "</style>\n",
       "<table border=\"1\" class=\"dataframe\">\n",
       "  <thead>\n",
       "    <tr style=\"text-align: right;\">\n",
       "      <th></th>\n",
       "      <th>Column Name</th>\n",
       "      <th>Missing Values</th>\n",
       "    </tr>\n",
       "  </thead>\n",
       "  <tbody>\n",
       "    <tr>\n",
       "      <th>0</th>\n",
       "      <td>title</td>\n",
       "      <td>0</td>\n",
       "    </tr>\n",
       "    <tr>\n",
       "      <th>1</th>\n",
       "      <td>score</td>\n",
       "      <td>0</td>\n",
       "    </tr>\n",
       "    <tr>\n",
       "      <th>2</th>\n",
       "      <td>id</td>\n",
       "      <td>0</td>\n",
       "    </tr>\n",
       "    <tr>\n",
       "      <th>3</th>\n",
       "      <td>url</td>\n",
       "      <td>0</td>\n",
       "    </tr>\n",
       "    <tr>\n",
       "      <th>4</th>\n",
       "      <td>comms_num</td>\n",
       "      <td>0</td>\n",
       "    </tr>\n",
       "    <tr>\n",
       "      <th>5</th>\n",
       "      <td>created</td>\n",
       "      <td>0</td>\n",
       "    </tr>\n",
       "    <tr>\n",
       "      <th>6</th>\n",
       "      <td>body</td>\n",
       "      <td>28449</td>\n",
       "    </tr>\n",
       "    <tr>\n",
       "      <th>7</th>\n",
       "      <td>timestamp</td>\n",
       "      <td>0</td>\n",
       "    </tr>\n",
       "  </tbody>\n",
       "</table>\n",
       "</div>"
      ],
      "text/plain": [
       "  Column Name  Missing Values\n",
       "0       title               0\n",
       "1       score               0\n",
       "2          id               0\n",
       "3         url               0\n",
       "4   comms_num               0\n",
       "5     created               0\n",
       "6        body           28449\n",
       "7   timestamp               0"
      ]
     },
     "execution_count": 18,
     "metadata": {},
     "output_type": "execute_result"
    }
   ],
   "source": [
    "#https://stackoverflow.com/questions/22257527/how-do-i-get-a-summary-count-of-missing-nan-data-by-column-in-pandas\n",
    "missing_values = dataset.isnull().sum()\n",
    "missing_df = pd.DataFrame({\n",
    "        'Column Name': missing_values.index,\n",
    "        'Missing Values': missing_values.values})\n",
    "missing_df"
   ]
  },
  {
   "cell_type": "markdown",
   "id": "dac6e2e7",
   "metadata": {},
   "source": [
    "### Find Date Range Contained in Data"
   ]
  },
  {
   "cell_type": "code",
   "execution_count": 20,
   "id": "731bf4dd",
   "metadata": {},
   "outputs": [
    {
     "data": {
      "text/plain": [
       "title         object\n",
       "score          int64\n",
       "id            object\n",
       "url           object\n",
       "comms_num      int64\n",
       "created      float64\n",
       "body          object\n",
       "timestamp     object\n",
       "dtype: object"
      ]
     },
     "execution_count": 20,
     "metadata": {},
     "output_type": "execute_result"
    }
   ],
   "source": [
    "dataset.dtypes"
   ]
  },
  {
   "cell_type": "code",
   "execution_count": 2,
   "id": "8cc974c7",
   "metadata": {},
   "outputs": [],
   "source": [
    "#we need to convert the timestamp to a date object to more easily work with this data\n",
    "dataset['timestamp'] = pd.to_datetime(dataset['timestamp'])"
   ]
  },
  {
   "cell_type": "code",
   "execution_count": 22,
   "id": "051022e8",
   "metadata": {},
   "outputs": [
    {
     "data": {
      "text/plain": [
       "title                object\n",
       "score                 int64\n",
       "id                   object\n",
       "url                  object\n",
       "comms_num             int64\n",
       "created             float64\n",
       "body                 object\n",
       "timestamp    datetime64[ns]\n",
       "dtype: object"
      ]
     },
     "execution_count": 22,
     "metadata": {},
     "output_type": "execute_result"
    }
   ],
   "source": [
    "dataset.dtypes"
   ]
  },
  {
   "cell_type": "code",
   "execution_count": null,
   "id": "9e782896",
   "metadata": {},
   "outputs": [],
   "source": [
    "alldata = dataset.groupby(dataset.timestamp).count().plot(y = 'title', kind = 'bar', title = 'All Posts')\n",
    "\n",
    "alldata.plot(y = 'title', kind='line')\n",
    "plt.title('All Posts')\n",
    "\n",
    "plt.show()"
   ]
  },
  {
   "cell_type": "code",
   "execution_count": 13,
   "id": "35e710ab",
   "metadata": {},
   "outputs": [
    {
     "data": {
      "image/png": "[encoded data removed]",
      "text/plain": [
       "<Figure size 640x480 with 1 Axes>"
      ]
     },
     "metadata": {},
     "output_type": "display_data"
    }
   ],
   "source": [
    "import matplotlib.pyplot as plt\n",
    "#distribution of posts by day of month\n",
    "byday = dataset.groupby(dataset.timestamp.dt.day).count()\n",
    "\n",
    "# Plot the grouped data\n",
    "byday.plot(y = 'title', kind='bar')\n",
    "plt.title('Posts by Day')\n",
    "plt.xlabel('Day of Month')\n",
    "plt.show()"
   ]
  },
  {
   "cell_type": "code",
   "execution_count": 20,
   "id": "6713e338",
   "metadata": {},
   "outputs": [
    {
     "data": {
      "text/plain": [
       "<Axes: title={'center': 'Posts per Year'}, xlabel='timestamp'>"
      ]
     },
     "execution_count": 20,
     "metadata": {},
     "output_type": "execute_result"
    },
    {
     "data": {
      "image/png": "[encoded data removed]",
      "text/plain": [
       "<Figure size 640x480 with 1 Axes>"
      ]
     },
     "metadata": {},
     "output_type": "display_data"
    }
   ],
   "source": [
    "#looking at comments by year\n",
    "dataset.groupby(dataset.timestamp.dt.year).count().plot(y = 'title', kind = 'bar', title = 'Posts per Year')"
   ]
  },
  {
   "cell_type": "code",
   "execution_count": 15,
   "id": "6c55868c",
   "metadata": {},
   "outputs": [
    {
     "data": {
      "image/png": "[encoded data removed]",
      "text/plain": [
       "<Figure size 640x480 with 1 Axes>"
      ]
     },
     "metadata": {},
     "output_type": "display_data"
    }
   ],
   "source": [
    "#looking at comments by month\n",
    "bymonth = dataset.groupby(dataset.timestamp.dt.month).count()\n",
    "# Plot the grouped data\n",
    "bymonth.plot(y = 'title', kind='bar')\n",
    "plt.title('Posts by Month')\n",
    "plt.xlabel('Month')\n",
    "plt.show()"
   ]
  },
  {
   "cell_type": "code",
   "execution_count": 23,
   "id": "49b24811",
   "metadata": {},
   "outputs": [
    {
     "data": {
      "text/plain": [
       "<Axes: title={'center': 'Posts per Hour'}, xlabel='timestamp'>"
      ]
     },
     "execution_count": 23,
     "metadata": {},
     "output_type": "execute_result"
    },
    {
     "data": {
      "image/png": "[encoded data removed]",
      "text/plain": [
       "<Figure size 640x480 with 1 Axes>"
      ]
     },
     "metadata": {},
     "output_type": "display_data"
    }
   ],
   "source": [
    "#looking at comments by hour\n",
    "dataset.groupby(dataset.timestamp.dt.hour).count().plot(y = 'title', kind = 'bar', title = 'Posts per Hour')"
   ]
  },
  {
   "cell_type": "markdown",
   "id": "17572e00",
   "metadata": {},
   "source": [
    "## Exploring Mongo"
   ]
  },
  {
   "cell_type": "code",
   "execution_count": null,
   "id": "c4a21d33",
   "metadata": {},
   "outputs": [],
   "source": [
    "#https://stackoverflow.com/questions/54565160/how-to-convert-all-values-of-a-nested-dictionary-into-strings\n",
    "import json\n",
    "#convert strings to \n",
    "\n",
    "\n",
    "redposts = dataset[\"title\"].to_dict()\n",
    "preparedataforimport = json.loads(json.dumps(redposts), parse_int=str, parse_float=str)\n",
    "preparedataforimport\n",
    "\n",
    "#stringified_dict = list(stringified_dict.items())\n",
    "#stringified_dict = list(stringified_dict)\n",
    "\n",
    "#stringified_dict\n",
    "#x = posts.insert_many(stringified_dict)\n",
    "#print(x.inserted_ids)\n",
    "##redposts = json.dumps(redposts)\n",
    "# Insert the records into the MongoDB collection\n",
    "#posts.insert_one(stringified_dict)\n"
   ]
  },
  {
   "cell_type": "code",
   "execution_count": null,
   "id": "23797d29",
   "metadata": {},
   "outputs": [],
   "source": [
    "#create reddit database and add a collection called posts\n",
    "reditdb = client[\"reddit\"]\n",
    "posts = reditdb[\"posts\"]\n",
    "newlist = []\n",
    "for key, value in preparedataforimport.items():\n",
    "    newdict = {key:value}\n",
    "    newlist.append(newdict)\n",
    "    \n",
    "mongocol = posts.insert_many(newlist)\n",
    "print(mongocol.inserted_ids)"
   ]
  },
  {
   "cell_type": "code",
   "execution_count": 14,
   "id": "b75c8345",
   "metadata": {},
   "outputs": [
    {
     "data": {
      "text/plain": [
       "<pymongo.synchronous.cursor.Cursor at 0x7e9bea19d150>"
      ]
     },
     "execution_count": 14,
     "metadata": {},
     "output_type": "execute_result"
    }
   ],
   "source": [
    "\n",
    "test = count(reditdb.posts.find({'params.value':\"gme\"}))\n"
   ]
  },
  {
   "cell_type": "code",
   "execution_count": 28,
   "id": "8487d550",
   "metadata": {},
   "outputs": [
    {
     "data": {
      "text/plain": [
       "{'_id': ObjectId('673a9150a1f5bd361014b5aa'),\n",
       " '0': \"It's not about the money, it's about sending a message. 🚀💎🙌\"}"
      ]
     },
     "execution_count": 28,
     "metadata": {},
     "output_type": "execute_result"
    }
   ],
   "source": [
    "from bson.objectid import ObjectId\n",
    "id = \"673a9150a1f5bd361014b5aa\"\n",
    "objInstance = ObjectId(id)\n",
    " \n",
    "posts.find_one({\"_id\": objInstance})"
   ]
  },
  {
   "cell_type": "code",
   "execution_count": 19,
   "id": "a3b36052",
   "metadata": {},
   "outputs": [
    {
     "name": "stdout",
     "output_type": "stream",
     "text": [
      "posts\n"
     ]
    }
   ],
   "source": [
    "for coll in reditdb.list_collection_names():\n",
    "    print(coll)"
   ]
  },
  {
   "cell_type": "markdown",
   "id": "65ce6176",
   "metadata": {},
   "source": [
    "## Searching Text using Pandas"
   ]
  },
  {
   "cell_type": "code",
   "execution_count": 16,
   "id": "a21f41ec",
   "metadata": {},
   "outputs": [
    {
     "name": "stdout",
     "output_type": "stream",
     "text": [
      "title        295\n",
      "score        295\n",
      "id           295\n",
      "url          295\n",
      "comms_num    295\n",
      "created      295\n",
      "body         125\n",
      "timestamp    295\n",
      "dtype: int64\n"
     ]
    }
   ],
   "source": [
    "#Searching text in dataframe\n",
    "gmecount = dataset[dataset['title'].str.contains('gme')].count()\n",
    "\n",
    "print(gmecount)"
   ]
  },
  {
   "cell_type": "markdown",
   "id": "10d6694f",
   "metadata": {},
   "source": [
    "## Pull stock prices from Yahoo Finance"
   ]
  },
  {
   "cell_type": "code",
   "execution_count": null,
   "id": "ead68141",
   "metadata": {},
   "outputs": [],
   "source": [
    "pip install yfinance"
   ]
  },
  {
   "cell_type": "code",
   "execution_count": 5,
   "id": "9d786a12",
   "metadata": {},
   "outputs": [
    {
     "data": {
      "text/plain": [
       "<Axes: title={'center': 'GME 2021 Stock Price'}, xlabel='Date'>"
      ]
     },
     "execution_count": 5,
     "metadata": {},
     "output_type": "execute_result"
    },
    {
     "data": {
      "image/png": "[encoded data removed]",
      "text/plain": [
       "<Figure size 640x480 with 1 Axes>"
      ]
     },
     "metadata": {},
     "output_type": "display_data"
    }
   ],
   "source": [
    "import yfinance as yf\n",
    "import numpy as np\n",
    "\n",
    "\n",
    "# Define the ticker symbol for the stock you want to pull data for\n",
    "tickerSymbol = 'GME'\n",
    "\n",
    "# Get data on this ticker\n",
    "tickerData = yf.Ticker(tickerSymbol)\n",
    "\n",
    "# Get the historical prices for this ticker\n",
    "tickerDf = tickerData.history(period='1d', start='2021-01-01', end='2021-12-31')\n",
    "tickerDf.plot(y = 'Close',kind = 'line', title = 'GME 2021 Stock Price')\n"
   ]
  }
 ],
 "metadata": {
  "kernelspec": {
   "display_name": "Python 3 (ipykernel)",
   "language": "python",
   "name": "python3"
  },
  "language_info": {
   "codemirror_mode": {
    "name": "ipython",
    "version": 3
   },
   "file_extension": ".py",
   "mimetype": "text/x-python",
   "name": "python",
   "nbconvert_exporter": "python",
   "pygments_lexer": "ipython3",
   "version": "3.10.9"
  }
 },
 "nbformat": 4,
 "nbformat_minor": 5
}
